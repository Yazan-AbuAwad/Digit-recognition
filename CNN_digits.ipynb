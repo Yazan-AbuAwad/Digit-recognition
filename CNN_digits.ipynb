{
  "nbformat": 4,
  "nbformat_minor": 0,
  "metadata": {
    "colab": {
      "provenance": []
    },
    "kernelspec": {
      "name": "python3",
      "display_name": "Python 3"
    },
    "language_info": {
      "name": "python"
    },
    "accelerator": "GPU"
  },
  "cells": [
    {
      "cell_type": "code",
      "execution_count": 1,
      "metadata": {
        "id": "Ko3n_i4NOkyN"
      },
      "outputs": [],
      "source": [
        "import tensorflow as tf\n",
        "from tensorflow import keras\n",
        "import numpy\n",
        "import matplotlib.pyplot as plt"
      ]
    },
    {
      "cell_type": "code",
      "source": [
        "(x_train, y_train), (x_test, y_test) = keras.datasets.mnist.load_data()"
      ],
      "metadata": {
        "colab": {
          "base_uri": "https://localhost:8080/"
        },
        "id": "-XN2V3pUO4c1",
        "outputId": "93860b25-e2e8-4a23-a495-a7a08f77b739"
      },
      "execution_count": 2,
      "outputs": [
        {
          "output_type": "stream",
          "name": "stdout",
          "text": [
            "Downloading data from https://storage.googleapis.com/tensorflow/tf-keras-datasets/mnist.npz\n",
            "11493376/11490434 [==============================] - 0s 0us/step\n",
            "11501568/11490434 [==============================] - 0s 0us/step\n"
          ]
        }
      ]
    },
    {
      "cell_type": "code",
      "source": [
        "#Normalize the data\n",
        "x_train = x_train/255.0\n",
        "x_test = x_test/255.0"
      ],
      "metadata": {
        "id": "RgYmjz_PPUX_"
      },
      "execution_count": 3,
      "outputs": []
    },
    {
      "cell_type": "code",
      "source": [
        "x_train = x_train.reshape(-1,28,28,1)"
      ],
      "metadata": {
        "id": "bNnwuyoAdHTQ"
      },
      "execution_count": 16,
      "outputs": []
    },
    {
      "cell_type": "code",
      "source": [
        "x_test=x_test.reshape(-1,28,28,1)"
      ],
      "metadata": {
        "id": "qhMQQVf1jnn2"
      },
      "execution_count": 34,
      "outputs": []
    },
    {
      "cell_type": "code",
      "source": [
        "plt.matshow(x_train[0])"
      ],
      "metadata": {
        "colab": {
          "base_uri": "https://localhost:8080/",
          "height": 292
        },
        "id": "oiZlK1GdWRGN",
        "outputId": "afb8968c-3bce-4c04-bd24-bcdceffd5cdf"
      },
      "execution_count": 4,
      "outputs": [
        {
          "output_type": "execute_result",
          "data": {
            "text/plain": [
              "<matplotlib.image.AxesImage at 0x7f7145a920d0>"
            ]
          },
          "metadata": {},
          "execution_count": 4
        },
        {
          "output_type": "display_data",
          "data": {
            "text/plain": [
              "<Figure size 288x288 with 1 Axes>"
            ],
            "image/png": "[encoded data removed]"
          },
          "metadata": {
            "needs_background": "light"
          }
        }
      ]
    },
    {
      "cell_type": "code",
      "source": [
        "#Create a model:\n",
        "model = keras.Sequential([\n",
        "    keras.layers.InputLayer(input_shape=(28,28,1)),\n",
        "    keras.layers.Conv2D(24,(3,3),activation='relu'),\n",
        "    keras.layers.MaxPooling2D(pool_size=(2,2)),\n",
        "    keras.layers.Conv2D(64, kernel_size=(3, 3), activation=\"relu\"),\n",
        "    keras.layers.MaxPooling2D(pool_size=(2, 2)),\n",
        "    keras.layers.Flatten(),\n",
        "    keras.layers.Dropout(0.5),\n",
        "    keras.layers.Dense(10,activation='sigmoid')\n",
        "])\n",
        "model.compile(optimizer='adam',\n",
        "              loss='sparse_categorical_crossentropy',\n",
        "              metrics=['accuracy'])"
      ],
      "metadata": {
        "id": "aSEzw-3_Pe4f"
      },
      "execution_count": 30,
      "outputs": []
    },
    {
      "cell_type": "code",
      "source": [
        "class myCallback(tf.keras.callbacks.Callback):\n",
        "  def on_epoch_end(self,epoch,logs={}):\n",
        "    if(logs.get('val_accuracy')>0.9939):\n",
        "      print(\"\\nReached 99.39% accuracy so cancelling training!\")\n",
        "      self.model.stop_training=True\n",
        "callbacks = myCallback()"
      ],
      "metadata": {
        "id": "nxScLFJkkxnT"
      },
      "execution_count": 53,
      "outputs": []
    },
    {
      "cell_type": "code",
      "source": [
        "model.fit(x_train,y_train,epochs=100,callbacks=[callbacks],validation_data=(x_test,y_test))"
      ],
      "metadata": {
        "colab": {
          "base_uri": "https://localhost:8080/"
        },
        "id": "jr2d-tOWbpPZ",
        "outputId": "1861dfd8-22ee-495a-8c03-cd2e4a74e024"
      },
      "execution_count": 54,
      "outputs": [
        {
          "output_type": "stream",
          "name": "stdout",
          "text": [
            "Epoch 1/100\n",
            "1875/1875 [==============================] - 8s 4ms/step - loss: 0.0114 - accuracy: 0.9966 - val_loss: 0.0371 - val_accuracy: 0.9928\n",
            "Epoch 2/100\n",
            "1875/1875 [==============================] - 8s 4ms/step - loss: 0.0105 - accuracy: 0.9967 - val_loss: 0.0408 - val_accuracy: 0.9927\n",
            "Epoch 3/100\n",
            "1875/1875 [==============================] - 8s 4ms/step - loss: 0.0111 - accuracy: 0.9967 - val_loss: 0.0381 - val_accuracy: 0.9927\n",
            "Epoch 4/100\n",
            "1875/1875 [==============================] - 8s 4ms/step - loss: 0.0112 - accuracy: 0.9965 - val_loss: 0.0341 - val_accuracy: 0.9923\n",
            "Epoch 5/100\n",
            "1875/1875 [==============================] - 7s 4ms/step - loss: 0.0077 - accuracy: 0.9973 - val_loss: 0.0359 - val_accuracy: 0.9923\n",
            "Epoch 6/100\n",
            "1875/1875 [==============================] - 7s 4ms/step - loss: 0.0105 - accuracy: 0.9968 - val_loss: 0.0335 - val_accuracy: 0.9923\n",
            "Epoch 7/100\n",
            "1875/1875 [==============================] - 7s 4ms/step - loss: 0.0108 - accuracy: 0.9967 - val_loss: 0.0361 - val_accuracy: 0.9928\n",
            "Epoch 8/100\n",
            "1875/1875 [==============================] - 8s 4ms/step - loss: 0.0121 - accuracy: 0.9965 - val_loss: 0.0360 - val_accuracy: 0.9927\n",
            "Epoch 9/100\n",
            "1875/1875 [==============================] - 7s 4ms/step - loss: 0.0102 - accuracy: 0.9967 - val_loss: 0.0373 - val_accuracy: 0.9927\n",
            "Epoch 10/100\n",
            "1875/1875 [==============================] - 7s 4ms/step - loss: 0.0103 - accuracy: 0.9968 - val_loss: 0.0390 - val_accuracy: 0.9918\n",
            "Epoch 11/100\n",
            "1875/1875 [==============================] - 8s 4ms/step - loss: 0.0109 - accuracy: 0.9966 - val_loss: 0.0399 - val_accuracy: 0.9926\n",
            "Epoch 12/100\n",
            "1875/1875 [==============================] - 7s 4ms/step - loss: 0.0105 - accuracy: 0.9969 - val_loss: 0.0401 - val_accuracy: 0.9925\n",
            "Epoch 13/100\n",
            "1875/1875 [==============================] - 7s 4ms/step - loss: 0.0105 - accuracy: 0.9967 - val_loss: 0.0421 - val_accuracy: 0.9918\n",
            "Epoch 14/100\n",
            "1875/1875 [==============================] - 7s 4ms/step - loss: 0.0110 - accuracy: 0.9969 - val_loss: 0.0372 - val_accuracy: 0.9927\n",
            "Epoch 15/100\n",
            "1875/1875 [==============================] - 7s 4ms/step - loss: 0.0108 - accuracy: 0.9969 - val_loss: 0.0380 - val_accuracy: 0.9930\n",
            "Epoch 16/100\n",
            "1875/1875 [==============================] - 8s 4ms/step - loss: 0.0097 - accuracy: 0.9969 - val_loss: 0.0407 - val_accuracy: 0.9923\n",
            "Epoch 17/100\n",
            "1875/1875 [==============================] - 7s 4ms/step - loss: 0.0112 - accuracy: 0.9965 - val_loss: 0.0365 - val_accuracy: 0.9924\n",
            "Epoch 18/100\n",
            "1875/1875 [==============================] - 8s 4ms/step - loss: 0.0099 - accuracy: 0.9968 - val_loss: 0.0403 - val_accuracy: 0.9924\n",
            "Epoch 19/100\n",
            "1875/1875 [==============================] - 7s 4ms/step - loss: 0.0100 - accuracy: 0.9966 - val_loss: 0.0434 - val_accuracy: 0.9927\n",
            "Epoch 20/100\n",
            "1875/1875 [==============================] - 7s 4ms/step - loss: 0.0098 - accuracy: 0.9973 - val_loss: 0.0431 - val_accuracy: 0.9923\n",
            "Epoch 21/100\n",
            "1875/1875 [==============================] - 8s 4ms/step - loss: 0.0095 - accuracy: 0.9969 - val_loss: 0.0387 - val_accuracy: 0.9929\n",
            "Epoch 22/100\n",
            "1875/1875 [==============================] - 7s 4ms/step - loss: 0.0113 - accuracy: 0.9964 - val_loss: 0.0416 - val_accuracy: 0.9926\n",
            "Epoch 23/100\n",
            "1875/1875 [==============================] - 7s 4ms/step - loss: 0.0111 - accuracy: 0.9967 - val_loss: 0.0357 - val_accuracy: 0.9928\n",
            "Epoch 24/100\n",
            "1875/1875 [==============================] - 8s 4ms/step - loss: 0.0096 - accuracy: 0.9969 - val_loss: 0.0354 - val_accuracy: 0.9934\n",
            "Epoch 25/100\n",
            "1875/1875 [==============================] - 8s 4ms/step - loss: 0.0110 - accuracy: 0.9969 - val_loss: 0.0373 - val_accuracy: 0.9925\n",
            "Epoch 26/100\n",
            "1875/1875 [==============================] - 7s 4ms/step - loss: 0.0090 - accuracy: 0.9972 - val_loss: 0.0478 - val_accuracy: 0.9917\n",
            "Epoch 27/100\n",
            "1875/1875 [==============================] - 8s 4ms/step - loss: 0.0111 - accuracy: 0.9970 - val_loss: 0.0396 - val_accuracy: 0.9929\n",
            "Epoch 28/100\n",
            "1875/1875 [==============================] - 7s 4ms/step - loss: 0.0106 - accuracy: 0.9969 - val_loss: 0.0412 - val_accuracy: 0.9924\n",
            "Epoch 29/100\n",
            "1875/1875 [==============================] - 8s 4ms/step - loss: 0.0096 - accuracy: 0.9971 - val_loss: 0.0363 - val_accuracy: 0.9929\n",
            "Epoch 30/100\n",
            "1875/1875 [==============================] - 8s 4ms/step - loss: 0.0107 - accuracy: 0.9968 - val_loss: 0.0345 - val_accuracy: 0.9931\n",
            "Epoch 31/100\n",
            "1875/1875 [==============================] - 7s 4ms/step - loss: 0.0079 - accuracy: 0.9971 - val_loss: 0.0413 - val_accuracy: 0.9921\n",
            "Epoch 32/100\n",
            "1875/1875 [==============================] - 7s 4ms/step - loss: 0.0109 - accuracy: 0.9966 - val_loss: 0.0435 - val_accuracy: 0.9930\n",
            "Epoch 33/100\n",
            "1875/1875 [==============================] - 7s 4ms/step - loss: 0.0118 - accuracy: 0.9966 - val_loss: 0.0360 - val_accuracy: 0.9931\n",
            "Epoch 34/100\n",
            "1875/1875 [==============================] - 7s 4ms/step - loss: 0.0115 - accuracy: 0.9968 - val_loss: 0.0336 - val_accuracy: 0.9938\n",
            "Epoch 35/100\n",
            "1875/1875 [==============================] - 7s 4ms/step - loss: 0.0095 - accuracy: 0.9972 - val_loss: 0.0356 - val_accuracy: 0.9933\n",
            "Epoch 36/100\n",
            "1875/1875 [==============================] - 7s 4ms/step - loss: 0.0107 - accuracy: 0.9971 - val_loss: 0.0375 - val_accuracy: 0.9932\n",
            "Epoch 37/100\n",
            "1875/1875 [==============================] - 8s 4ms/step - loss: 0.0103 - accuracy: 0.9967 - val_loss: 0.0341 - val_accuracy: 0.9930\n",
            "Epoch 38/100\n",
            "1875/1875 [==============================] - 8s 4ms/step - loss: 0.0112 - accuracy: 0.9967 - val_loss: 0.0389 - val_accuracy: 0.9927\n",
            "Epoch 39/100\n",
            "1875/1875 [==============================] - 7s 4ms/step - loss: 0.0094 - accuracy: 0.9973 - val_loss: 0.0337 - val_accuracy: 0.9932\n",
            "Epoch 40/100\n",
            "1875/1875 [==============================] - 7s 4ms/step - loss: 0.0119 - accuracy: 0.9966 - val_loss: 0.0414 - val_accuracy: 0.9927\n",
            "Epoch 41/100\n",
            "1875/1875 [==============================] - 7s 4ms/step - loss: 0.0110 - accuracy: 0.9965 - val_loss: 0.0347 - val_accuracy: 0.9926\n",
            "Epoch 42/100\n",
            "1875/1875 [==============================] - 7s 4ms/step - loss: 0.0094 - accuracy: 0.9970 - val_loss: 0.0397 - val_accuracy: 0.9922\n",
            "Epoch 43/100\n",
            "1875/1875 [==============================] - 7s 4ms/step - loss: 0.0104 - accuracy: 0.9970 - val_loss: 0.0408 - val_accuracy: 0.9930\n",
            "Epoch 44/100\n",
            "1875/1875 [==============================] - 7s 4ms/step - loss: 0.0095 - accuracy: 0.9973 - val_loss: 0.0423 - val_accuracy: 0.9913\n",
            "Epoch 45/100\n",
            "1875/1875 [==============================] - 7s 4ms/step - loss: 0.0113 - accuracy: 0.9968 - val_loss: 0.0385 - val_accuracy: 0.9924\n",
            "Epoch 46/100\n",
            "1875/1875 [==============================] - 8s 4ms/step - loss: 0.0108 - accuracy: 0.9969 - val_loss: 0.0399 - val_accuracy: 0.9924\n",
            "Epoch 47/100\n",
            "1870/1875 [============================>.] - ETA: 0s - loss: 0.0092 - accuracy: 0.9970\n",
            "Reached 99.39% accuracy so cancelling training!\n",
            "1875/1875 [==============================] - 7s 4ms/step - loss: 0.0092 - accuracy: 0.9970 - val_loss: 0.0329 - val_accuracy: 0.9943\n"
          ]
        },
        {
          "output_type": "execute_result",
          "data": {
            "text/plain": [
              "<keras.callbacks.History at 0x7f70140d07d0>"
            ]
          },
          "metadata": {},
          "execution_count": 54
        }
      ]
    },
    {
      "cell_type": "code",
      "source": [
        "model.save('cnn_digits.model')"
      ],
      "metadata": {
        "id": "rJ0IfVlsARZZ"
      },
      "execution_count": 56,
      "outputs": []
    },
    {
      "cell_type": "code",
      "source": [
        "model = tf.keras.models.load_model('cnn_digits.model')"
      ],
      "metadata": {
        "id": "DzZ2sfdmAfEi"
      },
      "execution_count": 57,
      "outputs": []
    },
    {
      "cell_type": "code",
      "source": [
        "model.evaluate(x_test,y_test)"
      ],
      "metadata": {
        "colab": {
          "base_uri": "https://localhost:8080/"
        },
        "id": "CmNOA-k-UKiX",
        "outputId": "65858bd6-02db-4c86-ddde-2087f3298c60"
      },
      "execution_count": 58,
      "outputs": [
        {
          "output_type": "stream",
          "name": "stdout",
          "text": [
            "313/313 [==============================] - 1s 3ms/step - loss: 0.0329 - accuracy: 0.9943\n"
          ]
        },
        {
          "output_type": "execute_result",
          "data": {
            "text/plain": [
              "[0.03286086022853851, 0.9943000078201294]"
            ]
          },
          "metadata": {},
          "execution_count": 58
        }
      ]
    },
    {
      "cell_type": "code",
      "source": [
        "predicted = model.predict(x_test)"
      ],
      "metadata": {
        "id": "lz2NFNzNUpkJ"
      },
      "execution_count": 59,
      "outputs": []
    },
    {
      "cell_type": "code",
      "source": [
        "predicted_labels= [numpy.argmax(i) for i in predicted]"
      ],
      "metadata": {
        "id": "Q18qpGBOVAol"
      },
      "execution_count": 60,
      "outputs": []
    },
    {
      "cell_type": "code",
      "source": [
        "c_matrix = tf.math.confusion_matrix(labels=y_test,predictions=predicted_labels)\n",
        "c_matrix"
      ],
      "metadata": {
        "colab": {
          "base_uri": "https://localhost:8080/"
        },
        "id": "hTF4dlg2VROY",
        "outputId": "01a3549d-bc4b-47d6-cfd8-9e2ed10da719"
      },
      "execution_count": 61,
      "outputs": [
        {
          "output_type": "execute_result",
          "data": {
            "text/plain": [
              "<tf.Tensor: shape=(10, 10), dtype=int32, numpy=\n",
              "array([[ 978,    0,    0,    0,    0,    0,    0,    1,    1,    0],\n",
              "       [   0, 1133,    1,    1,    0,    0,    0,    0,    0,    0],\n",
              "       [   1,    0, 1029,    0,    0,    0,    1,    1,    0,    0],\n",
              "       [   0,    1,    0, 1007,    0,    1,    0,    0,    1,    0],\n",
              "       [   0,    0,    0,    0,  978,    0,    0,    0,    1,    3],\n",
              "       [   1,    0,    0,    5,    0,  884,    1,    0,    0,    1],\n",
              "       [   1,    2,    0,    0,    1,    3,  948,    0,    3,    0],\n",
              "       [   0,    2,    1,    1,    0,    0,    0, 1023,    1,    0],\n",
              "       [   0,    0,    1,    0,    0,    1,    0,    1,  969,    2],\n",
              "       [   0,    0,    0,    0,    7,    3,    0,    3,    2,  994]],\n",
              "      dtype=int32)>"
            ]
          },
          "metadata": {},
          "execution_count": 61
        }
      ]
    },
    {
      "cell_type": "markdown",
      "source": [
        "Let's try the model on some data we created in paint"
      ],
      "metadata": {
        "id": "GIM4GpKtGq2q"
      }
    },
    {
      "cell_type": "code",
      "source": [
        "import cv2\n",
        "import numpy as np"
      ],
      "metadata": {
        "id": "zwCS2rZ6A9mA"
      },
      "execution_count": 65,
      "outputs": []
    },
    {
      "cell_type": "code",
      "source": [
        "images = [2,3,4,7,9,0,6,1,5]\n",
        "for i in images:\n",
        "  img = cv2.imread(f'test{i}.png')\n",
        "  img = np.invert(img[:,:,0])/255\n",
        "  img = img.reshape(1,28,28,1)\n",
        "  print(f'Image file test{i} is probably {numpy.argmax(model.predict(img))}')"
      ],
      "metadata": {
        "colab": {
          "base_uri": "https://localhost:8080/"
        },
        "id": "MKsAKjcKHR73",
        "outputId": "70ab87e5-0df7-491d-b30b-69dca5512aa2"
      },
      "execution_count": 70,
      "outputs": [
        {
          "output_type": "stream",
          "name": "stdout",
          "text": [
            "Image file test2 is probably 2\n",
            "Image file test3 is probably 3\n",
            "Image file test4 is probably 4\n",
            "Image file test7 is probably 7\n",
            "Image file test9 is probably 9\n",
            "Image file test0 is probably 2\n",
            "Image file test6 is probably 6\n",
            "Image file test1 is probably 1\n",
            "Image file test5 is probably 5\n"
          ]
        }
      ]
    },
    {
      "cell_type": "markdown",
      "source": [
        "Great Performance!"
      ],
      "metadata": {
        "id": "98TUBq44z6He"
      }
    }
  ]
}