{
  "nbformat": 4,
  "nbformat_minor": 0,
  "metadata": {
    "colab": {
      "provenance": []
    },
    "kernelspec": {
      "name": "python3",
      "display_name": "Python 3"
    },
    "language_info": {
      "name": "python"
    }
  },
  "cells": [
    {
      "cell_type": "code",
      "execution_count": 46,
      "metadata": {
        "id": "YdljaN0IXq5f"
      },
      "outputs": [],
      "source": [
        "from sklearn.datasets import fetch_openml"
      ]
    },
    {
      "cell_type": "code",
      "source": [
        "X, y = fetch_openml(\"mnist_784\", version=1, return_X_y=True, as_frame=False)"
      ],
      "metadata": {
        "id": "YFaPBc2afLnH"
      },
      "execution_count": 47,
      "outputs": []
    },
    {
      "cell_type": "code",
      "source": [
        "#Preprocess images by simple normalization\n",
        "X=X/255.0"
      ],
      "metadata": {
        "id": "ss_vM7MefWl3"
      },
      "execution_count": 52,
      "outputs": []
    },
    {
      "cell_type": "code",
      "source": [
        "#display an image\n",
        "import matplotlib.pyplot as plt\n",
        "plt.imshow(X[5].reshape(28,28))"
      ],
      "metadata": {
        "colab": {
          "base_uri": "https://localhost:8080/",
          "height": 282
        },
        "id": "vc0wlUoycjpS",
        "outputId": "342f5d5a-17ae-4668-c403-55ce31d7447c"
      },
      "execution_count": 59,
      "outputs": [
        {
          "output_type": "execute_result",
          "data": {
            "text/plain": [
              "<matplotlib.image.AxesImage at 0x7f2e899fab50>"
            ]
          },
          "metadata": {},
          "execution_count": 59
        },
        {
          "output_type": "display_data",
          "data": {
            "text/plain": [
              "<Figure size 432x288 with 1 Axes>"
            ],
            "image/png": "[encoded data removed]"
          },
          "metadata": {
            "needs_background": "light"
          }
        }
      ]
    },
    {
      "cell_type": "code",
      "source": [
        "#let's split the data\n",
        "from sklearn.model_selection import train_test_split"
      ],
      "metadata": {
        "id": "5AeyXo9dZHf_"
      },
      "execution_count": 60,
      "outputs": []
    },
    {
      "cell_type": "code",
      "source": [
        "x_train,x_test,y_train,y_test = train_test_split(X,y,test_size=0.33,random_state=42,stratify=y)"
      ],
      "metadata": {
        "id": "oFDFAXjgZqq-"
      },
      "execution_count": 61,
      "outputs": []
    },
    {
      "cell_type": "code",
      "source": [
        "# time to train a model\n",
        "from sklearn.neighbors import KNeighborsClassifier\n",
        "\n",
        "clf = KNeighborsClassifier()\n",
        "clf.fit(x_train,y_train)"
      ],
      "metadata": {
        "colab": {
          "base_uri": "https://localhost:8080/"
        },
        "id": "O9ll7DUOZ9sm",
        "outputId": "ba93a529-1281-4ce8-a652-b3faf403b4e1"
      },
      "execution_count": 81,
      "outputs": [
        {
          "output_type": "execute_result",
          "data": {
            "text/plain": [
              "KNeighborsClassifier()"
            ]
          },
          "metadata": {},
          "execution_count": 81
        }
      ]
    },
    {
      "cell_type": "code",
      "source": [
        "y_pred = clf.predict(x_test)"
      ],
      "metadata": {
        "id": "LBLelL0_apUG"
      },
      "execution_count": 82,
      "outputs": []
    },
    {
      "cell_type": "code",
      "source": [
        "clf.score(x_test,y_test)"
      ],
      "metadata": {
        "colab": {
          "base_uri": "https://localhost:8080/"
        },
        "id": "xziY8MHlauTH",
        "outputId": "185660c0-5715-4464-dbef-989a046b21ad"
      },
      "execution_count": 83,
      "outputs": [
        {
          "output_type": "execute_result",
          "data": {
            "text/plain": [
              "0.9693939393939394"
            ]
          },
          "metadata": {},
          "execution_count": 83
        }
      ]
    },
    {
      "cell_type": "code",
      "source": [
        "from sklearn.metrics import classification_report\n",
        "print('\\nKNN Classification Report:')\n",
        "print(classification_report(y_test,y_pred))"
      ],
      "metadata": {
        "colab": {
          "base_uri": "https://localhost:8080/"
        },
        "id": "Lo5_J3FwbMYJ",
        "outputId": "2fda0732-a37f-4d94-d1f3-f536dd2e3bd3"
      },
      "execution_count": 84,
      "outputs": [
        {
          "output_type": "stream",
          "name": "stdout",
          "text": [
            "\n",
            "KNN Classification Report:\n",
            "              precision    recall  f1-score   support\n",
            "\n",
            "           0       0.98      1.00      0.99      2278\n",
            "           1       0.96      0.99      0.97      2599\n",
            "           2       0.99      0.96      0.97      2307\n",
            "           3       0.96      0.97      0.97      2357\n",
            "           4       0.98      0.96      0.97      2252\n",
            "           5       0.96      0.96      0.96      2083\n",
            "           6       0.98      0.99      0.98      2269\n",
            "           7       0.96      0.97      0.97      2407\n",
            "           8       0.99      0.93      0.96      2252\n",
            "           9       0.95      0.96      0.95      2296\n",
            "\n",
            "    accuracy                           0.97     23100\n",
            "   macro avg       0.97      0.97      0.97     23100\n",
            "weighted avg       0.97      0.97      0.97     23100\n",
            "\n"
          ]
        }
      ]
    }
  ]
}