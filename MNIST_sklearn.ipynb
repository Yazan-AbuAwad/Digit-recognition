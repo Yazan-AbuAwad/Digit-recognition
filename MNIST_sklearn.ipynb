{
  "nbformat": 4,
  "nbformat_minor": 0,
  "metadata": {
    "colab": {
      "provenance": []
    },
    "kernelspec": {
      "name": "python3",
      "display_name": "Python 3"
    },
    "language_info": {
      "name": "python"
    }
  },
  "cells": [
    {
      "cell_type": "code",
      "execution_count": 1,
      "metadata": {
        "id": "YdljaN0IXq5f"
      },
      "outputs": [],
      "source": [
        "from sklearn import datasets"
      ]
    },
    {
      "cell_type": "code",
      "source": [
        "#loading dataset and flattening images\n",
        "digits = datasets.load_digits()\n",
        "data = digits.images.reshape(len(digits.images),-1)"
      ],
      "metadata": {
        "id": "mN-CxLlLYLW_"
      },
      "execution_count": 11,
      "outputs": []
    },
    {
      "cell_type": "code",
      "source": [
        "#display an image\n",
        "import matplotlib.pyplot as plt\n",
        "plt.matshow(digits.images[5])"
      ],
      "metadata": {
        "colab": {
          "base_uri": "https://localhost:8080/",
          "height": 292
        },
        "id": "vc0wlUoycjpS",
        "outputId": "e8598aec-d601-4747-b4c8-08a492d5f699"
      },
      "execution_count": 45,
      "outputs": [
        {
          "output_type": "execute_result",
          "data": {
            "text/plain": [
              "<matplotlib.image.AxesImage at 0x7f2e8a33fad0>"
            ]
          },
          "metadata": {},
          "execution_count": 45
        },
        {
          "output_type": "display_data",
          "data": {
            "text/plain": [
              "<Figure size 288x288 with 1 Axes>"
            ],
            "image/png": "[encoded data removed]"
          },
          "metadata": {
            "needs_background": "light"
          }
        }
      ]
    },
    {
      "cell_type": "code",
      "source": [
        "#let's split the data\n",
        "from sklearn.model_selection import train_test_split"
      ],
      "metadata": {
        "id": "5AeyXo9dZHf_"
      },
      "execution_count": 14,
      "outputs": []
    },
    {
      "cell_type": "code",
      "source": [
        "x_train,x_test,y_train,y_test = train_test_split(data,digits.target,test_size=0.33,random_state=42,stratify=digits.target)"
      ],
      "metadata": {
        "id": "oFDFAXjgZqq-"
      },
      "execution_count": 21,
      "outputs": []
    },
    {
      "cell_type": "code",
      "source": [
        "y_train"
      ],
      "metadata": {
        "colab": {
          "base_uri": "https://localhost:8080/"
        },
        "id": "Z-wlYv_cZ7oG",
        "outputId": "bd335245-dc85-4b30-86fd-4dd400cc7a8a"
      },
      "execution_count": 22,
      "outputs": [
        {
          "output_type": "execute_result",
          "data": {
            "text/plain": [
              "array([3, 3, 0, ..., 2, 0, 9])"
            ]
          },
          "metadata": {},
          "execution_count": 22
        }
      ]
    },
    {
      "cell_type": "code",
      "source": [
        "# time to train a model\n",
        "from sklearn.neighbors import KNeighborsClassifier\n",
        "\n",
        "clf = KNeighborsClassifier()\n",
        "clf.fit(x_train,y_train)"
      ],
      "metadata": {
        "colab": {
          "base_uri": "https://localhost:8080/"
        },
        "id": "O9ll7DUOZ9sm",
        "outputId": "9c3143fe-ba77-4ea6-e36c-ebbe650d05e6"
      },
      "execution_count": 23,
      "outputs": [
        {
          "output_type": "execute_result",
          "data": {
            "text/plain": [
              "KNeighborsClassifier()"
            ]
          },
          "metadata": {},
          "execution_count": 23
        }
      ]
    },
    {
      "cell_type": "code",
      "source": [
        "y_pred = clf.predict(x_test)"
      ],
      "metadata": {
        "id": "LBLelL0_apUG"
      },
      "execution_count": 29,
      "outputs": []
    },
    {
      "cell_type": "code",
      "source": [
        "clf.score(x_test,y_test)"
      ],
      "metadata": {
        "colab": {
          "base_uri": "https://localhost:8080/"
        },
        "id": "xziY8MHlauTH",
        "outputId": "48ba2db3-b442-4dd3-fb2d-2b27cb0c31d7"
      },
      "execution_count": 28,
      "outputs": [
        {
          "output_type": "execute_result",
          "data": {
            "text/plain": [
              "0.9848484848484849"
            ]
          },
          "metadata": {},
          "execution_count": 28
        }
      ]
    },
    {
      "cell_type": "code",
      "source": [
        "from sklearn.metrics import classification_report\n",
        "print('\\nKNN Classification Report:')\n",
        "print(classification_report(y_test,y_pred))"
      ],
      "metadata": {
        "colab": {
          "base_uri": "https://localhost:8080/"
        },
        "id": "Lo5_J3FwbMYJ",
        "outputId": "309a8285-f193-4d6a-80bc-4877dcacc853"
      },
      "execution_count": 32,
      "outputs": [
        {
          "output_type": "stream",
          "name": "stdout",
          "text": [
            "\n",
            "KNN Classification Report:\n",
            "              precision    recall  f1-score   support\n",
            "\n",
            "           0       1.00      0.98      0.99        59\n",
            "           1       0.95      1.00      0.98        60\n",
            "           2       1.00      1.00      1.00        59\n",
            "           3       0.98      1.00      0.99        60\n",
            "           4       0.97      1.00      0.98        60\n",
            "           5       1.00      0.98      0.99        60\n",
            "           6       1.00      1.00      1.00        60\n",
            "           7       0.98      1.00      0.99        59\n",
            "           8       0.98      0.91      0.95        58\n",
            "           9       0.98      0.97      0.97        59\n",
            "\n",
            "    accuracy                           0.98       594\n",
            "   macro avg       0.99      0.98      0.98       594\n",
            "weighted avg       0.99      0.98      0.98       594\n",
            "\n"
          ]
        }
      ]
    }
  ]
}